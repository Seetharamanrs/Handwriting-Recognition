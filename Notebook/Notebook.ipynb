{
 "cells": [
  {
   "cell_type": "code",
   "execution_count": 5,
   "id": "ab66dc19",
   "metadata": {},
   "outputs": [],
   "source": [
    "import pandas as pd\n",
    "import sklearn\n",
    "import numpy as np\n",
    "import matplotlib.pyplot as plt"
   ]
  },
  {
   "cell_type": "code",
   "execution_count": 40,
   "id": "91c394e0",
   "metadata": {},
   "outputs": [],
   "source": [
    "path1=r\"D:\\my_git\\Handwriting _Recognition\\Data\\mnist_test.csv\"\n",
    "path2=r\"D:\\my_git\\Handwriting _Recognition\\Data\\mnist_train.csv\"\n",
    "\n",
    "test_data=pd.read_csv(path1)\n",
    "train_data=pd.read_csv(path2)\n"
   ]
  },
  {
   "cell_type": "code",
   "execution_count": 45,
   "id": "3ccf77d6",
   "metadata": {},
   "outputs": [],
   "source": [
    "df=pd.concat([test_data,train_data],axis=0)"
   ]
  },
  {
   "cell_type": "code",
   "execution_count": 63,
   "id": "a8c73b43",
   "metadata": {},
   "outputs": [],
   "source": [
    "y=df['label']"
   ]
  },
  {
   "cell_type": "code",
   "execution_count": 61,
   "id": "76e9c43f",
   "metadata": {},
   "outputs": [],
   "source": [
    "df.reset_index(drop=True,inplace=True)"
   ]
  },
  {
   "cell_type": "code",
   "execution_count": 64,
   "id": "5ba42226",
   "metadata": {},
   "outputs": [],
   "source": [
    "y=df['label']"
   ]
  },
  {
   "cell_type": "code",
   "execution_count": 70,
   "id": "93700453",
   "metadata": {},
   "outputs": [],
   "source": [
    "x=df.drop(columns='label')"
   ]
  },
  {
   "cell_type": "code",
   "execution_count": 72,
   "id": "93c9c77e",
   "metadata": {},
   "outputs": [],
   "source": [
    "def missingvalues(ms):\n",
    "    if ms.any():\n",
    "        print(\"Missingvalue found\")\n",
    "        print(ms)\n",
    "    else:\n",
    "        print(\"Missing values not found\")"
   ]
  },
  {
   "cell_type": "code",
   "execution_count": 73,
   "id": "7a19e0aa",
   "metadata": {},
   "outputs": [
    {
     "name": "stdout",
     "output_type": "stream",
     "text": [
      "Missing values not found\n"
     ]
    }
   ],
   "source": [
    "missingvalues(x.isnull().sum())"
   ]
  },
  {
   "cell_type": "code",
   "execution_count": 74,
   "id": "cd5a1e41",
   "metadata": {},
   "outputs": [
    {
     "name": "stdout",
     "output_type": "stream",
     "text": [
      "Missing values not found\n"
     ]
    }
   ],
   "source": [
    "missingvalues(y.isnull().sum())"
   ]
  },
  {
   "cell_type": "code",
   "execution_count": null,
   "id": "d9d19906",
   "metadata": {},
   "outputs": [],
   "source": []
  },
  {
   "cell_type": "code",
   "execution_count": null,
   "id": "85e7d1a4",
   "metadata": {},
   "outputs": [],
   "source": []
  }
 ],
 "metadata": {
  "kernelspec": {
   "display_name": "Python 3",
   "language": "python",
   "name": "python3"
  },
  "language_info": {
   "codemirror_mode": {
    "name": "ipython",
    "version": 3
   },
   "file_extension": ".py",
   "mimetype": "text/x-python",
   "name": "python",
   "nbconvert_exporter": "python",
   "pygments_lexer": "ipython3",
   "version": "3.11.9"
  }
 },
 "nbformat": 4,
 "nbformat_minor": 5
}
